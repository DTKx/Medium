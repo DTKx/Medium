{
 "metadata": {
  "language_info": {
   "codemirror_mode": {
    "name": "ipython",
    "version": 3
   },
   "file_extension": ".py",
   "mimetype": "text/x-python",
   "name": "python",
   "nbconvert_exporter": "python",
   "pygments_lexer": "ipython3",
   "version": "3.8.8"
  },
  "orig_nbformat": 2,
  "kernelspec": {
   "name": "python3",
   "display_name": "Python 3",
   "language": "python"
  }
 },
 "nbformat": 4,
 "nbformat_minor": 2,
 "cells": [
  {
   "source": [
    "# 3 quick tips every pythonist should know to speed up on the fly\n",
    "\n",
    "Tired of getting 10 coffees to wait for you code to finish?\n",
    "In this post I am going to provide an overview of three easy python performance tips that I wish I had knew before, to reduce a bit the C++ bullying. \n",
    "\n",
    "SPOILER ALERT On my next post I will show how to apply this tips in the context of a Multiobjectives Genetic Algorithms.\n",
    "So for you that:\n",
    "- Already wrote your first Genetic Algorithm (GA) and want to advance to more effective Multi-Objective GAs (MOGA)\n",
    "- or understand the theory behing and is wondering how to build the first one in an effective way.\n",
    "\n",
    "Keep tuned for my next post.\n",
    "\n",
    "So shall we?"
   ],
   "cell_type": "markdown",
   "metadata": {}
  },
  {
   "source": [
    "<img src=\"speed.jpg\" />"
   ],
   "cell_type": "markdown",
   "metadata": {}
  },
  {
   "source": [
    "## TIP 1 Local Parallelization using ProcessPoolExecutor "
   ],
   "cell_type": "markdown",
   "metadata": {}
  },
  {
   "source": [
    "ProcessPoolExecutor comes with the standard [library](https://docs.python.org/3/library/concurrent.futures.html#concurrent.futures.ProcessPoolExecutor) and allows a user friendly multiprocessing  of your code, in case you have more than one core. Simplifiying, given processes that do not share memory, can be run in parallel one in each core."
   ],
   "cell_type": "markdown",
   "metadata": {}
  },
  {
   "source": [
    "Below is an example of how easy it is to benefit from the ProcessPool, please do not run in jupyter (it will return a BrokenProcessPool), but in a script.\n",
    "The function verifies, if numbers are prime (Return True) or not(False)."
   ],
   "cell_type": "markdown",
   "metadata": {}
  },
  {
   "cell_type": "code",
   "execution_count": 15,
   "metadata": {},
   "outputs": [
    {
     "output_type": "error",
     "ename": "BrokenProcessPool",
     "evalue": "A process in the process pool was terminated abruptly while the future was running or pending.",
     "traceback": [
      "\u001b[1;31m---------------------------------------------------------------------------\u001b[0m",
      "\u001b[1;31mBrokenProcessPool\u001b[0m                         Traceback (most recent call last)",
      "\u001b[1;32m<ipython-input-15-6d494f1f3924>\u001b[0m in \u001b[0;36m<module>\u001b[1;34m\u001b[0m\n\u001b[0;32m     30\u001b[0m \u001b[1;33m\u001b[0m\u001b[0m\n\u001b[0;32m     31\u001b[0m \u001b[1;32mif\u001b[0m \u001b[0m__name__\u001b[0m \u001b[1;33m==\u001b[0m \u001b[1;34m'__main__'\u001b[0m\u001b[1;33m:\u001b[0m\u001b[1;33m\u001b[0m\u001b[1;33m\u001b[0m\u001b[0m\n\u001b[1;32m---> 32\u001b[1;33m     \u001b[0mmain\u001b[0m\u001b[1;33m(\u001b[0m\u001b[1;33m)\u001b[0m\u001b[1;33m\u001b[0m\u001b[1;33m\u001b[0m\u001b[0m\n\u001b[0m",
      "\u001b[1;32m<ipython-input-15-6d494f1f3924>\u001b[0m in \u001b[0;36mmain\u001b[1;34m()\u001b[0m\n\u001b[0;32m     26\u001b[0m \u001b[1;32mdef\u001b[0m \u001b[0mmain\u001b[0m\u001b[1;33m(\u001b[0m\u001b[1;33m)\u001b[0m\u001b[1;33m:\u001b[0m\u001b[1;33m\u001b[0m\u001b[1;33m\u001b[0m\u001b[0m\n\u001b[0;32m     27\u001b[0m     \u001b[1;32mwith\u001b[0m \u001b[0mconcurrent\u001b[0m\u001b[1;33m.\u001b[0m\u001b[0mfutures\u001b[0m\u001b[1;33m.\u001b[0m\u001b[0mProcessPoolExecutor\u001b[0m\u001b[1;33m(\u001b[0m\u001b[1;33m)\u001b[0m \u001b[1;32mas\u001b[0m \u001b[0mexecutor\u001b[0m\u001b[1;33m:\u001b[0m\u001b[1;33m\u001b[0m\u001b[1;33m\u001b[0m\u001b[0m\n\u001b[1;32m---> 28\u001b[1;33m         \u001b[1;32mfor\u001b[0m \u001b[0mnumber\u001b[0m\u001b[1;33m,\u001b[0m \u001b[0mprime\u001b[0m \u001b[1;32min\u001b[0m \u001b[0mzip\u001b[0m\u001b[1;33m(\u001b[0m\u001b[0mPRIMES\u001b[0m\u001b[1;33m,\u001b[0m \u001b[0mexecutor\u001b[0m\u001b[1;33m.\u001b[0m\u001b[0mmap\u001b[0m\u001b[1;33m(\u001b[0m\u001b[0mis_prime\u001b[0m\u001b[1;33m,\u001b[0m \u001b[0mPRIMES\u001b[0m\u001b[1;33m)\u001b[0m\u001b[1;33m)\u001b[0m\u001b[1;33m:\u001b[0m\u001b[1;33m\u001b[0m\u001b[1;33m\u001b[0m\u001b[0m\n\u001b[0m\u001b[0;32m     29\u001b[0m             \u001b[0mprint\u001b[0m\u001b[1;33m(\u001b[0m\u001b[1;34m'%d is prime: %s'\u001b[0m \u001b[1;33m%\u001b[0m \u001b[1;33m(\u001b[0m\u001b[0mnumber\u001b[0m\u001b[1;33m,\u001b[0m \u001b[0mprime\u001b[0m\u001b[1;33m)\u001b[0m\u001b[1;33m)\u001b[0m\u001b[1;33m\u001b[0m\u001b[1;33m\u001b[0m\u001b[0m\n\u001b[0;32m     30\u001b[0m \u001b[1;33m\u001b[0m\u001b[0m\n",
      "\u001b[1;32m~\\anaconda3\\envs\\planningenv\\lib\\concurrent\\futures\\process.py\u001b[0m in \u001b[0;36m_chain_from_iterable_of_lists\u001b[1;34m(iterable)\u001b[0m\n\u001b[0;32m    482\u001b[0m     \u001b[0mcareful\u001b[0m \u001b[1;32mnot\u001b[0m \u001b[0mto\u001b[0m \u001b[0mkeep\u001b[0m \u001b[0mreferences\u001b[0m \u001b[0mto\u001b[0m \u001b[0myielded\u001b[0m \u001b[0mobjects\u001b[0m\u001b[1;33m.\u001b[0m\u001b[1;33m\u001b[0m\u001b[1;33m\u001b[0m\u001b[0m\n\u001b[0;32m    483\u001b[0m     \"\"\"\n\u001b[1;32m--> 484\u001b[1;33m     \u001b[1;32mfor\u001b[0m \u001b[0melement\u001b[0m \u001b[1;32min\u001b[0m \u001b[0miterable\u001b[0m\u001b[1;33m:\u001b[0m\u001b[1;33m\u001b[0m\u001b[1;33m\u001b[0m\u001b[0m\n\u001b[0m\u001b[0;32m    485\u001b[0m         \u001b[0melement\u001b[0m\u001b[1;33m.\u001b[0m\u001b[0mreverse\u001b[0m\u001b[1;33m(\u001b[0m\u001b[1;33m)\u001b[0m\u001b[1;33m\u001b[0m\u001b[1;33m\u001b[0m\u001b[0m\n\u001b[0;32m    486\u001b[0m         \u001b[1;32mwhile\u001b[0m \u001b[0melement\u001b[0m\u001b[1;33m:\u001b[0m\u001b[1;33m\u001b[0m\u001b[1;33m\u001b[0m\u001b[0m\n",
      "\u001b[1;32m~\\anaconda3\\envs\\planningenv\\lib\\concurrent\\futures\\_base.py\u001b[0m in \u001b[0;36mresult_iterator\u001b[1;34m()\u001b[0m\n\u001b[0;32m    609\u001b[0m                     \u001b[1;31m# Careful not to keep a reference to the popped future\u001b[0m\u001b[1;33m\u001b[0m\u001b[1;33m\u001b[0m\u001b[1;33m\u001b[0m\u001b[0m\n\u001b[0;32m    610\u001b[0m                     \u001b[1;32mif\u001b[0m \u001b[0mtimeout\u001b[0m \u001b[1;32mis\u001b[0m \u001b[1;32mNone\u001b[0m\u001b[1;33m:\u001b[0m\u001b[1;33m\u001b[0m\u001b[1;33m\u001b[0m\u001b[0m\n\u001b[1;32m--> 611\u001b[1;33m                         \u001b[1;32myield\u001b[0m \u001b[0mfs\u001b[0m\u001b[1;33m.\u001b[0m\u001b[0mpop\u001b[0m\u001b[1;33m(\u001b[0m\u001b[1;33m)\u001b[0m\u001b[1;33m.\u001b[0m\u001b[0mresult\u001b[0m\u001b[1;33m(\u001b[0m\u001b[1;33m)\u001b[0m\u001b[1;33m\u001b[0m\u001b[1;33m\u001b[0m\u001b[0m\n\u001b[0m\u001b[0;32m    612\u001b[0m                     \u001b[1;32melse\u001b[0m\u001b[1;33m:\u001b[0m\u001b[1;33m\u001b[0m\u001b[1;33m\u001b[0m\u001b[0m\n\u001b[0;32m    613\u001b[0m                         \u001b[1;32myield\u001b[0m \u001b[0mfs\u001b[0m\u001b[1;33m.\u001b[0m\u001b[0mpop\u001b[0m\u001b[1;33m(\u001b[0m\u001b[1;33m)\u001b[0m\u001b[1;33m.\u001b[0m\u001b[0mresult\u001b[0m\u001b[1;33m(\u001b[0m\u001b[0mend_time\u001b[0m \u001b[1;33m-\u001b[0m \u001b[0mtime\u001b[0m\u001b[1;33m.\u001b[0m\u001b[0mmonotonic\u001b[0m\u001b[1;33m(\u001b[0m\u001b[1;33m)\u001b[0m\u001b[1;33m)\u001b[0m\u001b[1;33m\u001b[0m\u001b[1;33m\u001b[0m\u001b[0m\n",
      "\u001b[1;32m~\\anaconda3\\envs\\planningenv\\lib\\concurrent\\futures\\_base.py\u001b[0m in \u001b[0;36mresult\u001b[1;34m(self, timeout)\u001b[0m\n\u001b[0;32m    437\u001b[0m                 \u001b[1;32mraise\u001b[0m \u001b[0mCancelledError\u001b[0m\u001b[1;33m(\u001b[0m\u001b[1;33m)\u001b[0m\u001b[1;33m\u001b[0m\u001b[1;33m\u001b[0m\u001b[0m\n\u001b[0;32m    438\u001b[0m             \u001b[1;32melif\u001b[0m \u001b[0mself\u001b[0m\u001b[1;33m.\u001b[0m\u001b[0m_state\u001b[0m \u001b[1;33m==\u001b[0m \u001b[0mFINISHED\u001b[0m\u001b[1;33m:\u001b[0m\u001b[1;33m\u001b[0m\u001b[1;33m\u001b[0m\u001b[0m\n\u001b[1;32m--> 439\u001b[1;33m                 \u001b[1;32mreturn\u001b[0m \u001b[0mself\u001b[0m\u001b[1;33m.\u001b[0m\u001b[0m__get_result\u001b[0m\u001b[1;33m(\u001b[0m\u001b[1;33m)\u001b[0m\u001b[1;33m\u001b[0m\u001b[1;33m\u001b[0m\u001b[0m\n\u001b[0m\u001b[0;32m    440\u001b[0m             \u001b[1;32melse\u001b[0m\u001b[1;33m:\u001b[0m\u001b[1;33m\u001b[0m\u001b[1;33m\u001b[0m\u001b[0m\n\u001b[0;32m    441\u001b[0m                 \u001b[1;32mraise\u001b[0m \u001b[0mTimeoutError\u001b[0m\u001b[1;33m(\u001b[0m\u001b[1;33m)\u001b[0m\u001b[1;33m\u001b[0m\u001b[1;33m\u001b[0m\u001b[0m\n",
      "\u001b[1;32m~\\anaconda3\\envs\\planningenv\\lib\\concurrent\\futures\\_base.py\u001b[0m in \u001b[0;36m__get_result\u001b[1;34m(self)\u001b[0m\n\u001b[0;32m    386\u001b[0m     \u001b[1;32mdef\u001b[0m \u001b[0m__get_result\u001b[0m\u001b[1;33m(\u001b[0m\u001b[0mself\u001b[0m\u001b[1;33m)\u001b[0m\u001b[1;33m:\u001b[0m\u001b[1;33m\u001b[0m\u001b[1;33m\u001b[0m\u001b[0m\n\u001b[0;32m    387\u001b[0m         \u001b[1;32mif\u001b[0m \u001b[0mself\u001b[0m\u001b[1;33m.\u001b[0m\u001b[0m_exception\u001b[0m\u001b[1;33m:\u001b[0m\u001b[1;33m\u001b[0m\u001b[1;33m\u001b[0m\u001b[0m\n\u001b[1;32m--> 388\u001b[1;33m             \u001b[1;32mraise\u001b[0m \u001b[0mself\u001b[0m\u001b[1;33m.\u001b[0m\u001b[0m_exception\u001b[0m\u001b[1;33m\u001b[0m\u001b[1;33m\u001b[0m\u001b[0m\n\u001b[0m\u001b[0;32m    389\u001b[0m         \u001b[1;32melse\u001b[0m\u001b[1;33m:\u001b[0m\u001b[1;33m\u001b[0m\u001b[1;33m\u001b[0m\u001b[0m\n\u001b[0;32m    390\u001b[0m             \u001b[1;32mreturn\u001b[0m \u001b[0mself\u001b[0m\u001b[1;33m.\u001b[0m\u001b[0m_result\u001b[0m\u001b[1;33m\u001b[0m\u001b[1;33m\u001b[0m\u001b[0m\n",
      "\u001b[1;31mBrokenProcessPool\u001b[0m: A process in the process pool was terminated abruptly while the future was running or pending."
     ]
    }
   ],
   "source": [
    "\"\"\"\n",
    "1) Function processpool adapted from official python documentation:\n",
    "https://docs.python.org/3/library/concurrent.futures.html#concurrent.futures.ProcessPoolExecutor\n",
    "\n",
    "Adapted by: DTKx\n",
    "Github: https://github.com/DTKx\n",
    "Date: 14/03/2021\n",
    "\"\"\"\n",
    "import concurrent.futures\n",
    "import math\n",
    "from time import perf_counter\n",
    "import numba\n",
    "\n",
    "PRIMES = [\n",
    "    112272535095293,\n",
    "    112582705942171,\n",
    "    112272535095293,\n",
    "    115280095190773,\n",
    "    115797848077099,\n",
    "    1099726899285419,\n",
    "    23515413413121213,\n",
    "    2135438421313555,\n",
    "    255131313111384,\n",
    "    251251351351153,\n",
    "    5151215132251221,\n",
    "    5351313131121531,\n",
    "    35131351513155351,\n",
    "    112272535095293,\n",
    "    112582705942171,\n",
    "    112272535095293,\n",
    "    115280095190773,\n",
    "    115797848077099,\n",
    "    1099726899285419,\n",
    "    23515413413121213,\n",
    "    2135438421313555,\n",
    "    255131313111384,\n",
    "    251251351351153,\n",
    "    5151215132251221,\n",
    "    5351313131121531,\n",
    "    35131351513155351,\n",
    "    115797848077099,\n",
    "    1099726899285419,\n",
    "    23515413413121213,\n",
    "    2135438421313555,\n",
    "    255131313111384,\n",
    "    251251351351153,\n",
    "    5151215132251221,\n",
    "    5351313131121531,\n",
    "    35131351513155351,\n",
    "]\n",
    "\n",
    "\n",
    "def is_prime(n):\n",
    "    if n < 2:\n",
    "        return False\n",
    "    if n == 2:\n",
    "        return True\n",
    "    if n % 2 == 0:\n",
    "        return False\n",
    "\n",
    "    sqrt_n = int(math.floor(math.sqrt(n)))\n",
    "    for i in range(3, sqrt_n + 1, 2):\n",
    "        if n % i == 0:\n",
    "            return False\n",
    "    return True\n",
    "\n",
    "\n",
    "def run_base():\n",
    "    t0 = perf_counter()\n",
    "    for number, prime in zip(PRIMES, map(is_prime, PRIMES)):\n",
    "        # print(\"%d is prime: %s\" % (number, prime))\n",
    "        print(\"\", end=\"\")  # Just prints an empty line just to allow us not to have the cmd polluted\n",
    "    t1 = perf_counter()\n",
    "    print(\"Time Base Case\", t1 - t0)\n",
    "\n",
    "\n",
    "def run_process_pool():\n",
    "    t0 = perf_counter()\n",
    "    with concurrent.futures.ProcessPoolExecutor() as executor:\n",
    "        for number, prime in zip(PRIMES, executor.map(is_prime, PRIMES)):\n",
    "            print(\"\", end=\"\")\n",
    "    t1 = perf_counter()\n",
    "    print(\"Time with ProcessPoolExecutor\", t1 - t0)\n",
    "\n",
    "\n",
    "if __name__ == \"__main__\":\n",
    "    run_base()\n",
    "    run_process_pool()"
   ]
  },
  {
   "source": [
    "In my machine, even in this small code there was a difference of around 4secs.\n",
    "\n",
    "1. Time Base Case 14.7976806\n",
    "1. Time with ProcessPoolExecutor 10.7335183\n",
    "\n",
    "Note however that ProcessPool is restricted to picklable objects (please take a look at the [docs](https://docs.python.org/3/library/concurrent.futures.html#concurrent.futures.ProcessPoolExecutor)).\n",
    "\n",
    "If you want to learn more on local concurrency using the standard python library, I recommend this amazing [tutorial](https://www.youtube.com/watch?v=fKl2JW_qrso) on multiprocessing."
   ],
   "cell_type": "markdown",
   "metadata": {}
  },
  {
   "source": [
    "## TIP 2 Compiling python code with numba"
   ],
   "cell_type": "markdown",
   "metadata": {}
  },
  {
   "source": [
    "My second tip is to use [numba library](https://numba.pydata.org/), numba compiles on the fly python code to machine code. Yes, that´s correct, we can also save a loooooot of time here. We just need to understand some things first.\n",
    "\n",
    "Numba Summary\n",
    "\n",
    "1. Numba works especially well with numpy and multiple loops.\n",
    "1. You'll probably not be able to add jit decorators to your whole code.\n",
    "1. Test numba in small and low performance functions (Spoiler to understand how to prioritize wait till Tip 3), that contains numpy and multiple loops. \n",
    "1. Look at the supported [python](https://numba.pydata.org/numba-doc/dev/reference/pysupported.html) and [numpy](https://numba.pydata.org/numba-doc/dev/reference/numpysupported.html) functions.\n",
    "1. Do not mix data types, numba won´t help you as python does by automatically converting for instance int64 to int32. \n",
    "\n",
    "Now as always let´s test.\n",
    "First let´s [install](https://numba.readthedocs.io/en/stable/user/5minguide.html) the package:"
   ],
   "cell_type": "markdown",
   "metadata": {}
  },
  {
   "cell_type": "code",
   "execution_count": null,
   "metadata": {},
   "outputs": [],
   "source": [
    "# In your conda terminal\n",
    "conda install numba# or pip install numba"
   ]
  },
  {
   "source": [
    "Next, let´s test out previous example using numba. \n",
    "\n",
    "So first copy with a different name the is_prime function and add the numba decorator  on top @jit(nopython=True,fastmath=True)."
   ],
   "cell_type": "markdown",
   "metadata": {}
  },
  {
   "cell_type": "code",
   "execution_count": null,
   "metadata": {},
   "outputs": [],
   "source": [
    "@jit(nopython=True,fastmath=True)\n",
    "def is_prime_numba(n):\n",
    "    if n < 2:\n",
    "        return False\n",
    "    if n == 2:\n",
    "        return True\n",
    "    if n % 2 == 0:\n",
    "        return False\n",
    "\n",
    "    sqrt_n = int(math.floor(math.sqrt(n)))\n",
    "    for i in range(3, sqrt_n + 1, 2):\n",
    "        if n % i == 0:\n",
    "            return False\n",
    "    return True"
   ]
  },
  {
   "cell_type": "code",
   "execution_count": null,
   "metadata": {},
   "outputs": [],
   "source": [
    "That´s it!\n",
    "Now you just need to add the call to the numba function."
   ]
  },
  {
   "cell_type": "code",
   "execution_count": null,
   "metadata": {},
   "outputs": [],
   "source": [
    "def run_numba():\n",
    "    t0 = perf_counter()\n",
    "    for number, prime in zip(PRIMES, map(is_prime_numba, PRIMES)):\n",
    "        print(\"\", end=\"\")\n",
    "    t1 = perf_counter()\n",
    "    print(\"Time Numba\", t1 - t0)\n",
    "\n",
    "\n",
    "if __name__ == \"__main__\":\n",
    "    run_base()\n",
    "    run_process_pool()\n",
    "    print(\"Time with Numba compiling\")\n",
    "    run_numba()\n",
    "    print(\"Time with Numba after compiling\")\n",
    "    run_numba()"
   ]
  },
  {
   "source": [
    "Now to the results:\n",
    "\n",
    "1. Time Base Case 14.205312000000001\n",
    "1. Time with ProcessPoolExecutor 9.930437499999998\n",
    "1. Numba time with compiling\n",
    "1. Time Numba 1.3300917000000005\n",
    "1. Numba time after compiling\n",
    "1. Time Numba 0.9918250000000022\n",
    "\n",
    "Indeed my friends, compiled code is marvelous. I still love python though, especially now with numba, especially given the straightforward use of numba decorators in current code.\n",
    "\n",
    "Note that the first time we run the numba code it will take longer, as it is compiling, however on the next run the code is even faster."
   ],
   "cell_type": "markdown",
   "metadata": {}
  },
  {
   "source": [
    "### Now if ProcessPool leverages from local parallelization and numba leverages from compiled code, what if we mixed them up together?"
   ],
   "cell_type": "markdown",
   "metadata": {}
  },
  {
   "source": [
    "Simple, all we have to do is copy our function run_process_pool again and modify the function being called."
   ],
   "cell_type": "markdown",
   "metadata": {}
  },
  {
   "cell_type": "code",
   "execution_count": null,
   "metadata": {},
   "outputs": [],
   "source": [
    "def run_process_pool_numba():\n",
    "    t0 = perf_counter()\n",
    "    with concurrent.futures.ProcessPoolExecutor(max_workers=2) as executor:# max_workers= maximum number of threads\n",
    "        for number, prime in zip(PRIMES, executor.map(is_prime_numba, PRIMES)):\n",
    "            print(\"\", end=\"\")\n",
    "    t1 = perf_counter()\n",
    "    print(\"Time with ProcessPoolExecutor with numba\", t1 - t0)"
   ]
  },
  {
   "cell_type": "code",
   "execution_count": null,
   "metadata": {},
   "outputs": [],
   "source": [
    "Results:\n",
    "\n",
    "1. Time Base Case 14.7415336\n",
    "1. Time with ProcessPoolExecutor 10.2182718\n",
    "1. Numba time with compiling\n",
    "1. Time Numba 1.4119825000000006\n",
    "1. Numba time after compiling\n",
    "1. Time Numba 0.9829408000000015\n",
    "1. Time with ProcessPoolExecutor with numba 2.9859480000000005\n",
    "\n",
    "Well that is disapointing using ProcessPool and Numba is slower than only numba, but understandable. Our problem is too small to to overcome the overhead of the ProcessPool and my machine only have 2 cores, the result in your machine can be really different."
   ]
  },
  {
   "source": [
    "So now test, lets increase our number of values to test. We will add more 100000 numbers, using the function below:"
   ],
   "cell_type": "markdown",
   "metadata": {}
  },
  {
   "cell_type": "code",
   "execution_count": null,
   "metadata": {},
   "outputs": [],
   "source": [
    "def add_random_numbers(numbers):\n",
    "    for i in range(numbers):\n",
    "        PRIMES.append(random.randint(10 ^ 15, 10 ^ 17))"
   ]
  },
  {
   "cell_type": "code",
   "execution_count": null,
   "metadata": {},
   "outputs": [],
   "source": [
    "Time Base Case 15.024390200000001\n",
    "Time with ProcessPoolExecutor 10.4288567\n",
    "Numba time with compiling\n",
    "Time Numba 1.4126227\n",
    "Numba time after compiling\n",
    "Time Numba 1.2121131999999974\n",
    "Time with ProcessPoolExecutor with numba 2.2224521000000017\n",
    "Add more 100000 numbers\n",
    "100035\n",
    "100035\n",
    "Time Base Case 20.258951299999996\n",
    "Time with ProcessPoolExecutor 122.43605180000002\n",
    "Time Numba 1.3219542999999874\n",
    "Time with ProcessPoolExecutor with numba 227.59259859999997"
   ]
  },
  {
   "source": [
    "Uou, that is a lot of overhead with a larger number of numbers. This could be related to the cost of our prime function versus the overhead of ProcessPoolExecutor, or the code is sharing resources and requires locks in the given example. For instance in more complicated functions it might be worthy, so this leads us to the final tip."
   ],
   "cell_type": "markdown",
   "metadata": {}
  },
  {
   "source": [
    "## Tip 3 Benchmark effectivelly your code with Cprofiling"
   ],
   "cell_type": "markdown",
   "metadata": {}
  },
  {
   "source": [
    "As you saw, talking about performance several cases, no matter the framework used, it might lead to different results. So one of the key aspects of performance is to know how to effectivelly benchmark your code, understanding the highest costs.\n",
    "So you know where to focus your precious efforts.\n",
    "For this we have the [cprofile](https://docs.python.org/3/library/profile.html#profile.run) of the standard python library, let´s see in practice by profiling our run_process_pool_numba and run_numba with 100035 numbers:"
   ],
   "cell_type": "markdown",
   "metadata": {}
  },
  {
   "cell_type": "code",
   "execution_count": null,
   "metadata": {},
   "outputs": [],
   "source": [
    "def run_cprofile():\n",
    "    \"\"\"Runs code making a time profile.\"\"\"\n",
    "    numbers_to_add = 100000\n",
    "    add_random_numbers(numbers_to_add)#Addying more numbers\n",
    "\n",
    "    pr = cProfile.Profile()\n",
    "    pr.enable()\n",
    "\n",
    "    pr.runctx(\"run_process_pool_numba()\", globals(), locals())  # Add the function name here\n",
    "\n",
    "    pr.disable()\n",
    "    s = io.StringIO()\n",
    "    sortby = SortKey.CUMULATIVE\n",
    "    ps = Stats(pr, stream=s).sort_stats(\"tottime\")\n",
    "    ps.print_stats()\n",
    "    export_to_txt(s, os.path.join(os.getcwd(), \"cprofile.txt\")) #Exports file"
   ]
  },
  {
   "source": [
    "- Profile run_process_pool_numba()"
   ],
   "cell_type": "markdown",
   "metadata": {}
  },
  {
   "cell_type": "code",
   "execution_count": null,
   "metadata": {},
   "outputs": [],
   "source": [
    "         4688653 function calls (4688598 primitive calls) in 193.398 seconds \n",
    "\n",
    "   Ordered by: internal time\n",
    "\n",
    "   ncalls  tottime  percall  cumtime  percall filename:lineno(function)\n",
    "   296094  174.535    0.001  174.535    0.001 {method 'acquire' of '_thread.lock' objects}\n",
    "   100036    8.230    0.000    8.230    0.000 {built-in method _winapi.WriteFile}\n",
    "   ..."
   ]
  },
  {
   "source": [
    "- Profile run_numba()"
   ],
   "cell_type": "markdown",
   "metadata": {}
  },
  {
   "cell_type": "code",
   "execution_count": null,
   "metadata": {},
   "outputs": [],
   "source": [
    "         496119 function calls (480498 primitive calls) in 2.429 seconds\n",
    "\n",
    "   Ordered by: internal time\n",
    "\n",
    "   ncalls  tottime  percall  cumtime  percall filename:lineno(function)\n",
    "   100035    1.288    0.000    1.288    0.000 c:\\Users\\...\\processpool_example.py:84(is_prime_numba)\n",
    "        1    0.383    0.383    2.429    2.429 c:\\Users\\...\\processpool_example.py:120(run_numba)\n",
    "..."
   ]
  },
  {
   "source": [
    "- Our code using the run_process_pool_numba spend most of the time (more than 90%) waiting for the lock to be released, plase check the official website on [Lock Objects](https://docs.python.org/3/library/threading.html).\n",
    "\n",
    "Indicating we can either test other structures or confidently select our numba approach."
   ],
   "cell_type": "markdown",
   "metadata": {}
  },
  {
   "source": [
    "Hope that this overview provided new insights on how to speed up on the fly your code and helped you save at least your 5 min reading time :).\n",
    "\n",
    "Please if you have any other tips, comments, improvements or if this helped you please comment below. The full code is available in my [Github]().\n",
    "\n",
    "Next time we will use this tips in a Multiobjective Genetic Algorithm, so if you have any interest please stay tuned.\n",
    "\n",
    "Thank you, see ya!"
   ],
   "cell_type": "markdown",
   "metadata": {}
  }
 ]
}